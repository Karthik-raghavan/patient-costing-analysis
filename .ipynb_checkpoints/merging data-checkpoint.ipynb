{
 "cells": [
  {
   "cell_type": "code",
   "execution_count": 1,
   "id": "d84f8d1d-6f5a-429f-895a-966b95546e62",
   "metadata": {},
   "outputs": [],
   "source": [
    "import pandas as pd"
   ]
  },
  {
   "cell_type": "code",
   "execution_count": 3,
   "id": "63d9881f-6bb0-4bf0-bccc-bdd1f699bc4a",
   "metadata": {},
   "outputs": [],
   "source": [
    "admission_methods = pd.read_excel('dataset/AdmissionMethods.xlsx')\n",
    "discharge_methods = pd.read_excel('dataset/DischargeMethods.xlsx')\n",
    "gender = pd.read_csv('dataset/Gender.txt')\n",
    "hcresgroup = pd.read_excel('dataset/HCResGroup.xlsx')\n",
    "calender = pd.read_excel('dataset/HealthServiceCalendar.xlsx')\n",
    "patient_details = pd.read_excel('dataset/PatientDetails.xlsx')\n",
    "resources = pd.read_excel('dataset/Resources.xlsx')\n",
    "specialities = pd.read_excel('dataset/Specialties.xlsx')"
   ]
  },
  {
   "cell_type": "code",
   "execution_count": null,
   "id": "183897b7-d5b1-4dcd-8baf-eb183f5f8bd1",
   "metadata": {},
   "outputs": [],
   "source": []
  },
  {
   "cell_type": "code",
   "execution_count": null,
   "id": "0eecf981-abf2-4254-a877-8dc0ccdd68ff",
   "metadata": {},
   "outputs": [],
   "source": []
  }
 ],
 "metadata": {
  "kernelspec": {
   "display_name": "Python 3 (ipykernel)",
   "language": "python",
   "name": "python3"
  },
  "language_info": {
   "codemirror_mode": {
    "name": "ipython",
    "version": 3
   },
   "file_extension": ".py",
   "mimetype": "text/x-python",
   "name": "python",
   "nbconvert_exporter": "python",
   "pygments_lexer": "ipython3",
   "version": "3.12.5"
  }
 },
 "nbformat": 4,
 "nbformat_minor": 5
}
