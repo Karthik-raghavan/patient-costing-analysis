{
 "cells": [
  {
   "cell_type": "code",
   "execution_count": 1,
   "id": "d84f8d1d-6f5a-429f-895a-966b95546e62",
   "metadata": {},
   "outputs": [],
   "source": [
    "import pandas as pd"
   ]
  },
  {
   "cell_type": "code",
   "execution_count": 3,
   "id": "63d9881f-6bb0-4bf0-bccc-bdd1f699bc4a",
   "metadata": {},
   "outputs": [],
   "source": [
    "admission_methods = pd.read_excel('dataset/AdmissionMethods.xlsx')\n",
    "discharge_methods = pd.read_excel('dataset/DischargeMethods.xlsx')\n",
    "gender = pd.read_csv('dataset/Gender.txt')\n",
    "hcresgroup = pd.read_excel('dataset/HCResGroup.xlsx')\n",
    "calender = pd.read_excel('dataset/HealthServiceCalendar.xlsx')\n",
    "patient_details = pd.read_excel('dataset/PatientDetails.xlsx')\n",
    "resources = pd.read_excel('dataset/Resources.xlsx')\n",
    "specialities = pd.read_excel('dataset/Specialties.xlsx')"
   ]
  },
  {
   "cell_type": "code",
   "execution_count": 6,
   "id": "183897b7-d5b1-4dcd-8baf-eb183f5f8bd1",
   "metadata": {},
   "outputs": [],
   "source": [
    "data = pd.merge(patient_details, admission_methods, on = 'AdmissionMethod')"
   ]
  },
  {
   "cell_type": "code",
   "execution_count": 8,
   "id": "0eecf981-abf2-4254-a877-8dc0ccdd68ff",
   "metadata": {},
   "outputs": [],
   "source": [
    "data = pd.merge(data, discharge_methods, on = 'DischargeMethod')"
   ]
  },
  {
   "cell_type": "code",
   "execution_count": 34,
   "id": "96a6c1c4-522a-4fe1-b51b-aab0f083be1d",
   "metadata": {},
   "outputs": [],
   "source": [
    "def get_gender_id(value):\n",
    "    return value.strip()[0]"
   ]
  },
  {
   "cell_type": "code",
   "execution_count": 35,
   "id": "2a119e74-b62b-48e4-b753-0b50ca6220fc",
   "metadata": {},
   "outputs": [
    {
     "data": {
      "text/html": [
       "<div>\n",
       "<style scoped>\n",
       "    .dataframe tbody tr th:only-of-type {\n",
       "        vertical-align: middle;\n",
       "    }\n",
       "\n",
       "    .dataframe tbody tr th {\n",
       "        vertical-align: top;\n",
       "    }\n",
       "\n",
       "    .dataframe thead th {\n",
       "        text-align: right;\n",
       "    }\n",
       "</style>\n",
       "<table border=\"1\" class=\"dataframe\">\n",
       "  <thead>\n",
       "    <tr style=\"text-align: right;\">\n",
       "      <th></th>\n",
       "      <th>GenderDetails</th>\n",
       "      <th>GenderId</th>\n",
       "    </tr>\n",
       "  </thead>\n",
       "  <tbody>\n",
       "    <tr>\n",
       "      <th>0</th>\n",
       "      <td>0Unknown</td>\n",
       "      <td>0</td>\n",
       "    </tr>\n",
       "    <tr>\n",
       "      <th>1</th>\n",
       "      <td>1Male</td>\n",
       "      <td>1</td>\n",
       "    </tr>\n",
       "    <tr>\n",
       "      <th>2</th>\n",
       "      <td>2Female</td>\n",
       "      <td>2</td>\n",
       "    </tr>\n",
       "  </tbody>\n",
       "</table>\n",
       "</div>"
      ],
      "text/plain": [
       "     GenderDetails GenderId\n",
       "0         0Unknown        0\n",
       "1            1Male        1\n",
       "2          2Female        2"
      ]
     },
     "execution_count": 35,
     "metadata": {},
     "output_type": "execute_result"
    }
   ],
   "source": [
    "gender['GenderId'] = gender['GenderDetails'].apply(get_gender_id)\n",
    "gender"
   ]
  },
  {
   "cell_type": "code",
   "execution_count": 36,
   "id": "4636b429-2f56-4651-a1b2-347597b1e33b",
   "metadata": {},
   "outputs": [],
   "source": [
    "def get_gender(value):\n",
    "    return value.strip()[1:]"
   ]
  },
  {
   "cell_type": "code",
   "execution_count": 37,
   "id": "2739f8d1-2e04-408d-b93a-a60515bd7725",
   "metadata": {},
   "outputs": [
    {
     "data": {
      "text/html": [
       "<div>\n",
       "<style scoped>\n",
       "    .dataframe tbody tr th:only-of-type {\n",
       "        vertical-align: middle;\n",
       "    }\n",
       "\n",
       "    .dataframe tbody tr th {\n",
       "        vertical-align: top;\n",
       "    }\n",
       "\n",
       "    .dataframe thead th {\n",
       "        text-align: right;\n",
       "    }\n",
       "</style>\n",
       "<table border=\"1\" class=\"dataframe\">\n",
       "  <thead>\n",
       "    <tr style=\"text-align: right;\">\n",
       "      <th></th>\n",
       "      <th>GenderDetails</th>\n",
       "      <th>GenderId</th>\n",
       "      <th>Gender</th>\n",
       "    </tr>\n",
       "  </thead>\n",
       "  <tbody>\n",
       "    <tr>\n",
       "      <th>0</th>\n",
       "      <td>0Unknown</td>\n",
       "      <td>0</td>\n",
       "      <td>Unknown</td>\n",
       "    </tr>\n",
       "    <tr>\n",
       "      <th>1</th>\n",
       "      <td>1Male</td>\n",
       "      <td>1</td>\n",
       "      <td>Male</td>\n",
       "    </tr>\n",
       "    <tr>\n",
       "      <th>2</th>\n",
       "      <td>2Female</td>\n",
       "      <td>2</td>\n",
       "      <td>Female</td>\n",
       "    </tr>\n",
       "  </tbody>\n",
       "</table>\n",
       "</div>"
      ],
      "text/plain": [
       "     GenderDetails GenderId   Gender\n",
       "0         0Unknown        0  Unknown\n",
       "1            1Male        1     Male\n",
       "2          2Female        2   Female"
      ]
     },
     "execution_count": 37,
     "metadata": {},
     "output_type": "execute_result"
    }
   ],
   "source": [
    "gender['Gender'] = gender['GenderDetails'].apply(get_gender)\n",
    "gender"
   ]
  },
  {
   "cell_type": "code",
   "execution_count": 40,
   "id": "df82fd92-b772-4286-9513-b1d930fad930",
   "metadata": {},
   "outputs": [],
   "source": [
    "gender.GenderId = gender.GenderId.astype(int)"
   ]
  },
  {
   "cell_type": "code",
   "execution_count": 41,
   "id": "845a4794-61cc-4cb5-95cc-0e363cb44845",
   "metadata": {},
   "outputs": [],
   "source": [
    "data = pd.merge(data, gender, on = 'GenderId')"
   ]
  },
  {
   "cell_type": "code",
   "execution_count": 46,
   "id": "1236d8b0-1338-4f89-8520-8278ca3da31b",
   "metadata": {},
   "outputs": [],
   "source": [
    "hcresgroup.rename(columns={'sid_HRGKey':'HRG'}, inplace=True)"
   ]
  },
  {
   "cell_type": "code",
   "execution_count": 48,
   "id": "d674c256-6a00-449b-ba25-7db0dc8a5183",
   "metadata": {},
   "outputs": [],
   "source": [
    "data = pd.merge(data, hcresgroup, on = 'HRG')"
   ]
  },
  {
   "cell_type": "code",
   "execution_count": 50,
   "id": "74682acf-5015-424d-b20e-776c12ed6bd6",
   "metadata": {},
   "outputs": [],
   "source": [
    "data = pd.merge(data, calender, on = 'DateKey')"
   ]
  },
  {
   "cell_type": "code",
   "execution_count": 53,
   "id": "39b9b59c-9b7a-46ea-a65d-275f8ecf8166",
   "metadata": {},
   "outputs": [],
   "source": [
    "data = pd.merge(data, resources, on = 'cResElem')"
   ]
  },
  {
   "cell_type": "code",
   "execution_count": 54,
   "id": "94e85c54-b192-4820-8701-e26d126b6d29",
   "metadata": {},
   "outputs": [
    {
     "data": {
      "text/html": [
       "<div>\n",
       "<style scoped>\n",
       "    .dataframe tbody tr th:only-of-type {\n",
       "        vertical-align: middle;\n",
       "    }\n",
       "\n",
       "    .dataframe tbody tr th {\n",
       "        vertical-align: top;\n",
       "    }\n",
       "\n",
       "    .dataframe thead th {\n",
       "        text-align: right;\n",
       "    }\n",
       "</style>\n",
       "<table border=\"1\" class=\"dataframe\">\n",
       "  <thead>\n",
       "    <tr style=\"text-align: right;\">\n",
       "      <th></th>\n",
       "      <th>SpecialtyDescription</th>\n",
       "      <th>Surgical Specialties</th>\n",
       "      <th>Comments</th>\n",
       "    </tr>\n",
       "  </thead>\n",
       "  <tbody>\n",
       "    <tr>\n",
       "      <th>0</th>\n",
       "      <td>110 Trauma &amp; Orthopaedics</td>\n",
       "      <td>TRAUMA &amp; ORTHOPAEDICS</td>\n",
       "      <td>-</td>\n",
       "    </tr>\n",
       "    <tr>\n",
       "      <th>1</th>\n",
       "      <td>320 Cardiology</td>\n",
       "      <td>CARDIOLOGY</td>\n",
       "      <td>-</td>\n",
       "    </tr>\n",
       "    <tr>\n",
       "      <th>2</th>\n",
       "      <td>340 Respiratory Medicine</td>\n",
       "      <td>RESPIRATORY MEDICINE</td>\n",
       "      <td>also known as Thoracic Medicine</td>\n",
       "    </tr>\n",
       "    <tr>\n",
       "      <th>3</th>\n",
       "      <td>501 Obstetrics</td>\n",
       "      <td>OBSTETRICS</td>\n",
       "      <td>The management of pregnancy and childbirth inc...</td>\n",
       "    </tr>\n",
       "  </tbody>\n",
       "</table>\n",
       "</div>"
      ],
      "text/plain": [
       "        SpecialtyDescription   Surgical Specialties  \\\n",
       "0  110 Trauma & Orthopaedics  TRAUMA & ORTHOPAEDICS   \n",
       "1             320 Cardiology             CARDIOLOGY   \n",
       "2   340 Respiratory Medicine   RESPIRATORY MEDICINE   \n",
       "3             501 Obstetrics             OBSTETRICS   \n",
       "\n",
       "                                            Comments  \n",
       "0                                                  -  \n",
       "1                                                  -  \n",
       "2                    also known as Thoracic Medicine  \n",
       "3  The management of pregnancy and childbirth inc...  "
      ]
     },
     "execution_count": 54,
     "metadata": {},
     "output_type": "execute_result"
    }
   ],
   "source": [
    "specialities"
   ]
  },
  {
   "cell_type": "code",
   "execution_count": 55,
   "id": "7963b1dd-3b32-49c6-b6a6-079fab4c74fd",
   "metadata": {},
   "outputs": [],
   "source": [
    "def get_speciality_id(value):\n",
    "    return value.strip().split(' ')[0]"
   ]
  },
  {
   "cell_type": "code",
   "execution_count": 59,
   "id": "851d229a-005f-440a-a396-f3c0e9497919",
   "metadata": {},
   "outputs": [],
   "source": [
    "specialities['Specialty'] = specialities['SpecialtyDescription'].apply(get_speciality_id)"
   ]
  },
  {
   "cell_type": "code",
   "execution_count": 61,
   "id": "4f7b3044-6e24-4030-af7f-feff87e024da",
   "metadata": {},
   "outputs": [],
   "source": [
    "def get_speciality(value):\n",
    "    return value.strip()[4:]"
   ]
  },
  {
   "cell_type": "code",
   "execution_count": 63,
   "id": "3014e2e2-2201-48bb-9982-e4b8c66a9050",
   "metadata": {},
   "outputs": [],
   "source": [
    "specialities['SpecialtyDescription'] = specialities['SpecialtyDescription'].apply(get_speciality)"
   ]
  },
  {
   "cell_type": "code",
   "execution_count": 65,
   "id": "6302affc-7c1d-44bd-bcba-cddc17a6a7c8",
   "metadata": {},
   "outputs": [],
   "source": [
    "specialities['Specialty'] = specialities['Specialty'].astype(int)"
   ]
  },
  {
   "cell_type": "code",
   "execution_count": 66,
   "id": "23c9f943-759b-44a7-83e1-f64d95e97af5",
   "metadata": {},
   "outputs": [],
   "source": [
    "data = pd.merge(data, specialities, on = 'Specialty')"
   ]
  },
  {
   "cell_type": "code",
   "execution_count": 68,
   "id": "64aef5f0-8afe-4993-a327-7e2e93bdad15",
   "metadata": {},
   "outputs": [],
   "source": [
    "data.to_csv('dataset/PatientCostingAnalysisData.csv', index=False)"
   ]
  },
  {
   "cell_type": "code",
   "execution_count": 69,
   "id": "b4624568-63f3-469a-829b-2a9ea3fe960f",
   "metadata": {},
   "outputs": [],
   "source": [
    "data.to_excel('dataset/PatientCostingAnalysisData.xlsx', index=False)"
   ]
  },
  {
   "cell_type": "code",
   "execution_count": null,
   "id": "76b7fb4b-f9b6-4f0c-9a6d-d1e82a97b97a",
   "metadata": {},
   "outputs": [],
   "source": []
  }
 ],
 "metadata": {
  "kernelspec": {
   "display_name": "Python 3 (ipykernel)",
   "language": "python",
   "name": "python3"
  },
  "language_info": {
   "codemirror_mode": {
    "name": "ipython",
    "version": 3
   },
   "file_extension": ".py",
   "mimetype": "text/x-python",
   "name": "python",
   "nbconvert_exporter": "python",
   "pygments_lexer": "ipython3",
   "version": "3.12.5"
  }
 },
 "nbformat": 4,
 "nbformat_minor": 5
}
