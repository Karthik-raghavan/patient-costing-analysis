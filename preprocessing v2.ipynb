{
 "cells": [
  {
   "cell_type": "code",
   "execution_count": 1,
   "id": "05e568a5-d8b8-469e-8866-d6838cd7efed",
   "metadata": {},
   "outputs": [],
   "source": [
    "import pandas as pd"
   ]
  },
  {
   "cell_type": "code",
   "execution_count": 2,
   "id": "aeda8b73-b35d-41df-8347-c10092f4b9d9",
   "metadata": {},
   "outputs": [],
   "source": [
    "patientdetails = pd.read_excel('dataset/PatientDetails.xlsx')\n",
    "calendar = pd.read_excel('dataset/HealthServiceCalendar.xlsx')"
   ]
  },
  {
   "cell_type": "code",
   "execution_count": 3,
   "id": "623742a5-2b2f-4247-ae15-767aaf948958",
   "metadata": {},
   "outputs": [
    {
     "data": {
      "text/plain": [
       "DateKey           0\n",
       "DayAbbr           0\n",
       "MonthDayNum       0\n",
       "YearNum           0\n",
       "YearMonth         0\n",
       "MonthAbbr         0\n",
       "MonthNum          0\n",
       "DayDate           0\n",
       "MonthStartDate    0\n",
       "MonthEndDate      0\n",
       "PrevYearNum       0\n",
       "PrevMonthNum      0\n",
       "dtype: int64"
      ]
     },
     "execution_count": 3,
     "metadata": {},
     "output_type": "execute_result"
    }
   ],
   "source": [
    "calendar.isna().sum()"
   ]
  },
  {
   "cell_type": "code",
   "execution_count": 4,
   "id": "2c1fc882-5e75-403f-b785-1db9c0f1586f",
   "metadata": {},
   "outputs": [
    {
     "data": {
      "text/plain": [
       "DateKey                        0\n",
       "AdmissionMethod                0\n",
       "Age                            0\n",
       "Consultant                     0\n",
       "Consultant Comments            0\n",
       "Cost                           0\n",
       "cResElem                       0\n",
       "cResElem2Name             202074\n",
       "cResElem3                 202074\n",
       "cResElemName              206044\n",
       "cResElem3Name             206044\n",
       "cResItem                       0\n",
       "DischargeMethod                0\n",
       "DominantDiagnosis              0\n",
       "DominantProcedure_Code     59822\n",
       "AdmissionDate                  0\n",
       "DischargeDate                  0\n",
       "EpisodeID                      0\n",
       "HRG                            0\n",
       "IncomeChildTopup               2\n",
       "IncomeExcessBedDays            2\n",
       "IncomeTariff                   2\n",
       "IncomeTopUp                    2\n",
       "PatientID                      0\n",
       "PatientType                    0\n",
       "PercentageSplit                0\n",
       "resItemName                    0\n",
       "GenderId                       0\n",
       "Specialty                      0\n",
       "Units(days)               181647\n",
       "Country                        0\n",
       "State                          0\n",
       "City                           0\n",
       "dtype: int64"
      ]
     },
     "execution_count": 4,
     "metadata": {},
     "output_type": "execute_result"
    }
   ],
   "source": [
    "patientdetails.isna().sum()"
   ]
  },
  {
   "cell_type": "code",
   "execution_count": 5,
   "id": "ef199e9b-c37b-49d4-8a2f-173d948af37f",
   "metadata": {},
   "outputs": [
    {
     "name": "stdout",
     "output_type": "stream",
     "text": [
      "<class 'pandas.core.frame.DataFrame'>\n",
      "RangeIndex: 211233 entries, 0 to 211232\n",
      "Data columns (total 33 columns):\n",
      " #   Column                  Non-Null Count   Dtype         \n",
      "---  ------                  --------------   -----         \n",
      " 0   DateKey                 211233 non-null  datetime64[ns]\n",
      " 1   AdmissionMethod         211233 non-null  int64         \n",
      " 2   Age                     211233 non-null  int64         \n",
      " 3   Consultant              211233 non-null  object        \n",
      " 4   Consultant Comments     211233 non-null  int64         \n",
      " 5   Cost                    211233 non-null  float64       \n",
      " 6   cResElem                211233 non-null  object        \n",
      " 7   cResElem2Name           9159 non-null    object        \n",
      " 8   cResElem3               9159 non-null    object        \n",
      " 9   cResElemName            5189 non-null    object        \n",
      " 10  cResElem3Name           5189 non-null    object        \n",
      " 11  cResItem                211233 non-null  int64         \n",
      " 12  DischargeMethod         211233 non-null  int64         \n",
      " 13  DominantDiagnosis       211233 non-null  object        \n",
      " 14  DominantProcedure_Code  151411 non-null  object        \n",
      " 15  AdmissionDate           211233 non-null  datetime64[ns]\n",
      " 16  DischargeDate           211233 non-null  datetime64[ns]\n",
      " 17  EpisodeID               211233 non-null  object        \n",
      " 18  HRG                     211233 non-null  object        \n",
      " 19  IncomeChildTopup        211231 non-null  float64       \n",
      " 20  IncomeExcessBedDays     211231 non-null  float64       \n",
      " 21  IncomeTariff            211231 non-null  float64       \n",
      " 22  IncomeTopUp             211231 non-null  float64       \n",
      " 23  PatientID               211233 non-null  object        \n",
      " 24  PatientType             211233 non-null  object        \n",
      " 25  PercentageSplit         211233 non-null  float64       \n",
      " 26  resItemName             211233 non-null  object        \n",
      " 27  GenderId                211233 non-null  int64         \n",
      " 28  Specialty               211233 non-null  int64         \n",
      " 29  Units(days)             29586 non-null   float64       \n",
      " 30  Country                 211233 non-null  object        \n",
      " 31  State                   211233 non-null  object        \n",
      " 32  City                    211233 non-null  object        \n",
      "dtypes: datetime64[ns](3), float64(7), int64(7), object(16)\n",
      "memory usage: 53.2+ MB\n"
     ]
    }
   ],
   "source": [
    "patientdetails.info()"
   ]
  },
  {
   "cell_type": "code",
   "execution_count": 6,
   "id": "4f734501-8d0c-4115-96ef-96dca20a83c0",
   "metadata": {},
   "outputs": [
    {
     "name": "stdout",
     "output_type": "stream",
     "text": [
      "<class 'pandas.core.frame.DataFrame'>\n",
      "RangeIndex: 731 entries, 0 to 730\n",
      "Data columns (total 12 columns):\n",
      " #   Column          Non-Null Count  Dtype         \n",
      "---  ------          --------------  -----         \n",
      " 0   DateKey         731 non-null    datetime64[ns]\n",
      " 1   DayAbbr         731 non-null    object        \n",
      " 2   MonthDayNum     731 non-null    int64         \n",
      " 3   YearNum         731 non-null    int64         \n",
      " 4   YearMonth       731 non-null    object        \n",
      " 5   MonthAbbr       731 non-null    object        \n",
      " 6   MonthNum        731 non-null    int64         \n",
      " 7   DayDate         731 non-null    datetime64[ns]\n",
      " 8   MonthStartDate  731 non-null    datetime64[ns]\n",
      " 9   MonthEndDate    731 non-null    datetime64[ns]\n",
      " 10  PrevYearNum     731 non-null    int64         \n",
      " 11  PrevMonthNum    731 non-null    int64         \n",
      "dtypes: datetime64[ns](4), int64(5), object(3)\n",
      "memory usage: 68.7+ KB\n"
     ]
    }
   ],
   "source": [
    "calendar.info()"
   ]
  },
  {
   "cell_type": "code",
   "execution_count": 7,
   "id": "7a8b1e62-657e-43bc-8f2f-2cac71b99aaf",
   "metadata": {},
   "outputs": [],
   "source": [
    "data = patientdetails.merge(calendar, on='DateKey')"
   ]
  },
  {
   "cell_type": "code",
   "execution_count": 8,
   "id": "1b79c662-15f8-426a-8dfc-992e3f327dcb",
   "metadata": {},
   "outputs": [],
   "source": [
    "gender = pd.read_csv('dataset/Gender.txt')"
   ]
  },
  {
   "cell_type": "code",
   "execution_count": 9,
   "id": "0001cffa-0194-4ed9-bd8d-73ed32d5c2df",
   "metadata": {},
   "outputs": [],
   "source": [
    "def get_gender_id(detail):\n",
    "    return int(detail.strip()[0])"
   ]
  },
  {
   "cell_type": "code",
   "execution_count": 10,
   "id": "245b452f-c2e5-43a8-a3a6-70593a701620",
   "metadata": {},
   "outputs": [],
   "source": [
    "gender['GenderId'] = gender['GenderDetails'].apply(get_gender_id)\n",
    "gender['GenderId'] = gender['GenderId'].astype(int)"
   ]
  },
  {
   "cell_type": "code",
   "execution_count": 11,
   "id": "31f0d431-8562-4a49-97d1-b30766a84daa",
   "metadata": {},
   "outputs": [],
   "source": [
    "def get_gender(detail):\n",
    "    return detail.strip()[1:]"
   ]
  },
  {
   "cell_type": "code",
   "execution_count": 12,
   "id": "4dbd7cfc-46fa-4c42-a16c-687e9de0d4e1",
   "metadata": {},
   "outputs": [],
   "source": [
    "gender['Gender'] = gender['GenderDetails'].apply(get_gender)"
   ]
  },
  {
   "cell_type": "code",
   "execution_count": 13,
   "id": "eeedce17-0ea7-4274-8124-73424f6b57f4",
   "metadata": {},
   "outputs": [],
   "source": [
    "gender.drop(columns='GenderDetails', inplace=True)"
   ]
  },
  {
   "cell_type": "code",
   "execution_count": 14,
   "id": "2331457a-e74b-4d0a-ad78-14b8fd3b89fc",
   "metadata": {},
   "outputs": [
    {
     "data": {
      "text/html": [
       "<div>\n",
       "<style scoped>\n",
       "    .dataframe tbody tr th:only-of-type {\n",
       "        vertical-align: middle;\n",
       "    }\n",
       "\n",
       "    .dataframe tbody tr th {\n",
       "        vertical-align: top;\n",
       "    }\n",
       "\n",
       "    .dataframe thead th {\n",
       "        text-align: right;\n",
       "    }\n",
       "</style>\n",
       "<table border=\"1\" class=\"dataframe\">\n",
       "  <thead>\n",
       "    <tr style=\"text-align: right;\">\n",
       "      <th></th>\n",
       "      <th>GenderId</th>\n",
       "      <th>Gender</th>\n",
       "    </tr>\n",
       "  </thead>\n",
       "  <tbody>\n",
       "    <tr>\n",
       "      <th>0</th>\n",
       "      <td>0</td>\n",
       "      <td>Unknown</td>\n",
       "    </tr>\n",
       "    <tr>\n",
       "      <th>1</th>\n",
       "      <td>1</td>\n",
       "      <td>Male</td>\n",
       "    </tr>\n",
       "    <tr>\n",
       "      <th>2</th>\n",
       "      <td>2</td>\n",
       "      <td>Female</td>\n",
       "    </tr>\n",
       "  </tbody>\n",
       "</table>\n",
       "</div>"
      ],
      "text/plain": [
       "   GenderId   Gender\n",
       "0         0  Unknown\n",
       "1         1     Male\n",
       "2         2   Female"
      ]
     },
     "execution_count": 14,
     "metadata": {},
     "output_type": "execute_result"
    }
   ],
   "source": [
    "gender"
   ]
  },
  {
   "cell_type": "code",
   "execution_count": 15,
   "id": "b858b345-f467-4f85-a6e3-006945dbeb32",
   "metadata": {},
   "outputs": [],
   "source": [
    "gender.to_csv('dataset/gender.csv', index= False)"
   ]
  },
  {
   "cell_type": "code",
   "execution_count": 16,
   "id": "d633deaf-2bb1-4365-a0c4-d98035c841cd",
   "metadata": {},
   "outputs": [],
   "source": [
    "data = data.merge(gender, on = 'GenderId')"
   ]
  },
  {
   "cell_type": "code",
   "execution_count": 17,
   "id": "eebeb564-c03f-4858-adcc-83bcb939e583",
   "metadata": {},
   "outputs": [],
   "source": [
    "data.to_csv('dataset/dashboard_data.csv', index=False)"
   ]
  },
  {
   "cell_type": "code",
   "execution_count": null,
   "id": "3de88c54-60d4-4bfa-8057-bf5c141d724a",
   "metadata": {},
   "outputs": [],
   "source": []
  },
  {
   "cell_type": "code",
   "execution_count": null,
   "id": "da2977b8-e945-4b6f-a06b-3c540dc9325e",
   "metadata": {},
   "outputs": [],
   "source": []
  }
 ],
 "metadata": {
  "kernelspec": {
   "display_name": "Python 3 (ipykernel)",
   "language": "python",
   "name": "python3"
  },
  "language_info": {
   "codemirror_mode": {
    "name": "ipython",
    "version": 3
   },
   "file_extension": ".py",
   "mimetype": "text/x-python",
   "name": "python",
   "nbconvert_exporter": "python",
   "pygments_lexer": "ipython3",
   "version": "3.12.5"
  }
 },
 "nbformat": 4,
 "nbformat_minor": 5
}
